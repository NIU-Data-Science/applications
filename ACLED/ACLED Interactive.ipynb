{
 "cells": [
  {
   "cell_type": "markdown",
   "metadata": {},
   "source": [
    "# Armed Conflict Location Event Data\n",
    "\n",
    "\"The Armed Conflict Location & Event Data Project (ACLED) is a disaggregated data collection, analysis, and crisis mapping project. ACLED collects the dates, actors, locations, fatalities, and types of all reported political violence and protest events across Africa, the Middle East, Latin America & the Caribbean, East Asia, South Asia, Southeast Asia, Central Asia & the Caucasus, Europe, and the United States of America. The ACLED team conducts analysis to describe, explore, and test conflict scenarios, and makes both data and analysis open for free use by the public.\"\n",
    "\n",
    "\"ACLED is a registered non-profit organization with 501(c)(3) status in the United States.\"\n",
    "\n",
    "Copied from [about ACLED](https://acleddata.com/about-acled/)\n",
    "\n",
    "[ACLED website](https://acleddata.com/#/dashboard)"
   ]
  },
  {
   "cell_type": "markdown",
   "metadata": {},
   "source": [
    "# 0. Import Python Dependencies and Enter Access Information\n"
   ]
  },
  {
   "cell_type": "code",
   "execution_count": 19,
   "metadata": {},
   "outputs": [
    {
     "ename": "ModuleNotFoundError",
     "evalue": "No module named 'pyproj'",
     "output_type": "error",
     "traceback": [
      "\u001b[1;31m---------------------------------------------------------------------------\u001b[0m",
      "\u001b[1;31mModuleNotFoundError\u001b[0m                       Traceback (most recent call last)",
      "\u001b[1;32m<ipython-input-19-9c33b49e1dec>\u001b[0m in \u001b[0;36m<module>\u001b[1;34m\u001b[0m\n\u001b[0;32m      8\u001b[0m \u001b[1;32mimport\u001b[0m \u001b[0mjson\u001b[0m\u001b[1;33m\u001b[0m\u001b[1;33m\u001b[0m\u001b[0m\n\u001b[0;32m      9\u001b[0m \u001b[1;32mfrom\u001b[0m \u001b[0mbokeh\u001b[0m\u001b[1;33m.\u001b[0m\u001b[0mtile_providers\u001b[0m \u001b[1;32mimport\u001b[0m \u001b[0mget_provider\u001b[0m\u001b[1;33m,\u001b[0m \u001b[0mVendors\u001b[0m\u001b[1;33m\u001b[0m\u001b[1;33m\u001b[0m\u001b[0m\n\u001b[1;32m---> 10\u001b[1;33m \u001b[1;32mfrom\u001b[0m \u001b[0mpyproj\u001b[0m \u001b[1;32mimport\u001b[0m \u001b[0mTransformer\u001b[0m\u001b[1;33m\u001b[0m\u001b[1;33m\u001b[0m\u001b[0m\n\u001b[0m\u001b[0;32m     11\u001b[0m \u001b[0mtile_provider\u001b[0m \u001b[1;33m=\u001b[0m \u001b[0mget_provider\u001b[0m\u001b[1;33m(\u001b[0m\u001b[1;34m'STAMEN_TERRAIN'\u001b[0m\u001b[1;33m)\u001b[0m\u001b[1;33m\u001b[0m\u001b[1;33m\u001b[0m\u001b[0m\n\u001b[0;32m     12\u001b[0m \u001b[1;33m\u001b[0m\u001b[0m\n",
      "\u001b[1;31mModuleNotFoundError\u001b[0m: No module named 'pyproj'"
     ]
    }
   ],
   "source": [
    "#import libraries\n",
    "import requests\n",
    "from datetime import datetime as dt\n",
    "from datetime import timedelta\n",
    "import pandas as pd\n",
    "import ipywidgets as widgets\n",
    "from ipywidgets import interact\n",
    "import json\n",
    "from bokeh.tile_providers import get_provider, Vendors\n",
    "from pyproj import Transformer\n",
    "tile_provider = get_provider('STAMEN_TERRAIN')\n",
    "\n",
    "############################################################\n",
    "#Code to Input Data\n",
    "##########################################################\n",
    "\n",
    "print(\"Please enter your ACLED Email and API Key\")\n",
    "key_input = widgets.Text(\n",
    "    placeholder = \"Input API Key\",\n",
    "    description=\"API Key\", \n",
    "    disabled = False)\n",
    "\n",
    "def api_in(key):\n",
    "    key_entered = key\n",
    "    return key_entered\n",
    "\n",
    "key_entered = interact(api_in, key = key_input)\n",
    "\n",
    "email_input = widgets.Text(\n",
    "    placeholder = \"Input ACLED email\",\n",
    "    description=\"Email\", \n",
    "    disabled = False)\n",
    "\n",
    "def email_in(email):\n",
    "    email_entered = email\n",
    "    return email_entered\n",
    "\n",
    "email_entered = interact(email_in, email = email_input)\n",
    "#NIU_Library@dodiis.mil\n",
    "#4Uoeeh94QslgoIucWFc3"
   ]
  },
  {
   "cell_type": "markdown",
   "metadata": {},
   "source": [
    "# 1. Determine How You Would like to Make the Request\n",
    "\n",
    "If you are able to code your own requests skip to step 3 and use the API Guide located in this repo. "
   ]
  },
  {
   "cell_type": "code",
   "execution_count": 2,
   "metadata": {},
   "outputs": [
    {
     "name": "stdout",
     "output_type": "stream",
     "text": [
      "Do you want to look by country or region?\n"
     ]
    },
    {
     "data": {
      "application/vnd.jupyter.widget-view+json": {
       "model_id": "2f85683ce30b4bf1bb3b1b23dd139956",
       "version_major": 2,
       "version_minor": 0
      },
      "text/plain": [
       "interactive(children=(Select(description='Selection Approach', options=('By Country', 'By Region', 'By Actor',…"
      ]
     },
     "metadata": {},
     "output_type": "display_data"
    }
   ],
   "source": [
    "#Read in the coverage\n",
    "docs = pd.read_csv(\"ACLED-Country-Coverage-and-ISO-Codes_3.2020.csv\")\n",
    "docs =docs.dropna()\n",
    "# Conver to lists for widgets\n",
    "country = sorted(list(docs['Country']))\n",
    "date = list(docs[\"Start Date\"])\n",
    "iso = list(docs[\"ISO Code\"])\n",
    "region_dict = {\"Western Africa\":1, \"Middle Africa\": 2,\"Eastern Africa\": 3,\"Southern Africa\": 4,\"Northern Africa\": 5, \"South Asia\": 7, \"Western Asia\":8,\"Southeast Asia\":9,\n",
    "          \"Middle East\": 11,\"Europe\":12,\"Caucasus and Central Asia\":13,\"Central America\":14,\"South America\":15,\"Caribbean\":16,\n",
    "          \"East Asia\":17}\n",
    "\n",
    "print(\"Do you want to look by country or region?\")\n",
    "\n",
    "approach = widgets.Select(options = [\"By Country\", \"By Region\", \"By Actor\", \"By Event Type\"],\n",
    "                          description=\"Selection Approach\", disabled=False)\n",
    "\n",
    "def update_app(approach):\n",
    "    approach_selection = approach\n",
    "    return approach\n",
    "\n",
    "\n",
    "approach_selection = interact(update_app, approach = approach)\n",
    "\n"
   ]
  },
  {
   "cell_type": "markdown",
   "metadata": {},
   "source": [
    "# 2. From your request either select or type in your requests and enter your email and key"
   ]
  },
  {
   "cell_type": "code",
   "execution_count": 3,
   "metadata": {},
   "outputs": [
    {
     "name": "stdout",
     "output_type": "stream",
     "text": [
      "Select multiple countries in a row with shift or numerous individual countries with ctrl/cmd\n"
     ]
    },
    {
     "data": {
      "application/vnd.jupyter.widget-view+json": {
       "model_id": "97a04ffdfe37440a866475cf717817bc",
       "version_major": 2,
       "version_minor": 0
      },
      "text/plain": [
       "interactive(children=(SelectMultiple(description='Country', options=('Afghanistan', 'Albania', 'Algeria', 'Ang…"
      ]
     },
     "metadata": {},
     "output_type": "display_data"
    }
   ],
   "source": [
    "if approach.value == \"By Country\":\n",
    "    print(\"Select multiple countries in a row with shift or numerous individual countries with ctrl/cmd\")\n",
    "    country_select = widgets.SelectMultiple(options = country,\n",
    "    description='Country',\n",
    "    disabled=False)\n",
    "\n",
    "    country_selected = []\n",
    "    def update(country):\n",
    "        country = list(country)\n",
    "        return country\n",
    "\n",
    "    country_selection = interact(update, country= country_select)\n",
    "\n",
    "elif approach.value == \"By Region\": \n",
    "    print(\"Select multiple region in a row with shift or numerous individual regions comd/ctrl\") \n",
    "    region_select = widgets.SelectMultiple(\n",
    "        options = list(region_dict.keys()),description=\"Regions\", \n",
    "        disabled = False)\n",
    "\n",
    "\n",
    "    region_choice = []\n",
    "    def reg_update(reg):\n",
    "        region_selected = reg\n",
    "        return region_selected\n",
    "\n",
    "    region_selection = interact(reg_update, reg = region_select)\n",
    "    \n",
    "elif approach.value == \"By Actor\":\n",
    "    print(\"Seperate different actor types with a comma\")\n",
    "    actor_select = widgets.Text(\n",
    "        placeholder = \"Type Actor Here\",\n",
    "        description=\"Actor\", \n",
    "        disabled = False)\n",
    "\n",
    "\n",
    "    actor_choice = []\n",
    "    def actor_update(actor):\n",
    "        actor_selected = actor\n",
    "        return actor_selected\n",
    "    \n",
    "    actor_selection = interact(actor_update, actor = actor_select)\n",
    "    \n"
   ]
  },
  {
   "cell_type": "markdown",
   "metadata": {},
   "source": [
    "# 3. Create the request and See Size "
   ]
  },
  {
   "cell_type": "code",
   "execution_count": 4,
   "metadata": {},
   "outputs": [
    {
     "name": "stdout",
     "output_type": "stream",
     "text": [
      "Your request for Albania contains 827 records from 2018-01-12 to 2021-01-26.\n",
      "\n",
      "Your request urls are ['https://api.acleddata.com/acled/read?key=4Uoeeh94QslgoIucWFc3&email=NIU_Library@dodiis.mil&country=Albania&country_where=%3D']\n",
      "\n",
      "If your requests total more than 15,000 records we recommend reducing your request.\n"
     ]
    }
   ],
   "source": [
    "api_key = key_input.value\n",
    "email = email_input.value\n",
    "api_list = []\n",
    "ref_list = []\n",
    "\n",
    "if approach.value == \"By Country\":\n",
    "    for cntry in country_select.value: \n",
    "        #Ping ACLED to determine size of request\n",
    "        size = 'https://api.acleddata.com/country/read?key={}&email={}&country={}&country_where=%3D'.format(api_key,email,cntry)\n",
    "        resp = requests.get(size)\n",
    "        resp = json.loads(resp.text)\n",
    "        print(\"Your request for {} contains {} records from {} to {}.\\n\".format(cntry, resp['data'][0]['event_count'],\n",
    "                                                                             resp['data'][0]['first_event_date'], \n",
    "                                                                             resp['data'][0]['last_event_date']))\n",
    "        #Create request URL\n",
    "        api_url = 'https://api.acleddata.com/acled/read?key={}&email={}&country={}&country_where=%3D'.format(api_key,email,cntry)\n",
    "        api_list.append(api_url)\n",
    "        ref_list.append(cntry)\n",
    "    print(\"Your request urls are {}\".format(api_list))\n",
    "        \n",
    "elif approach.value == \"By Region\": \n",
    "    for reg in region_select.value:\n",
    "        #Ping ACLED to determine size of request\n",
    "        size = 'https://api.acleddata.com/region/read?key={}&email={}&region={}'.format(api_key,email,region_dict[reg])\n",
    "        resp = requests.get(size)\n",
    "        resp = json.loads(resp.text)\n",
    "        print(\"Your request for {} contains {} records from {} to {}.\\n\".format(reg, resp['data'][0]['event_count'],\n",
    "                                                                             resp['data'][0]['first_event_date'], \n",
    "                                                                             resp['data'][0]['last_event_date']))\n",
    "        #Create request URL\n",
    "        api_url = 'https://api.acleddata.com/acled/read?key={}&email={}&region={}'.format(api_key,email,region_dict[reg])\n",
    "        api_list.append(api_url)\n",
    "        ref_list.append(reg)\n",
    "    print(\"Your request urls are {}\".format(api_list))\n",
    "    \n",
    "elif approach.value == \"By Actor\":\n",
    "    actor_split =actor_select.split(',')\n",
    "    for act in actor_split:\n",
    "        #Ping ACLED to detemrine size of request\n",
    "        size = 'https://api.acleddata.com/actpr/read?key={}&email={}&actor={}.\\n'.format(api_key,email,act)\n",
    "        resp = requests.get(size)\n",
    "        resp = json.laods(resp.text)\n",
    "        print(\"Your request for {} contains {} records from {} to {}.\".format(reg, resp['data'][0]['event_count'],\n",
    "                                                                             resp['data'][0]['first_event_date'], \n",
    "                                                                             resp['data'][0]['last_event_date']))\n",
    "        #Create Request URL\n",
    "        api_url = 'https://api.acleddata.com/acled/read?key={}&email={}?actor={}'.format(api_key,email,act)\n",
    "        api_list.append(api_url)\n",
    "        ref_list.append(act)\n",
    "    print(\"Your request urls are {}\".format(api_list)) #creates request according to ACLED format specifications - p. 13\n",
    "    \n",
    "print(\"\\nIf your requests total more than 15,000 records we recommend reducing your request.\")"
   ]
  },
  {
   "cell_type": "markdown",
   "metadata": {},
   "source": [
    "# 4. Send the Request"
   ]
  },
  {
   "cell_type": "code",
   "execution_count": 5,
   "metadata": {},
   "outputs": [
    {
     "name": "stdout",
     "output_type": "stream",
     "text": [
      "starting  1   500\n",
      "Total Results  500\n"
     ]
    }
   ],
   "source": [
    "\n",
    "results = {} # empty data strcture to store results\n",
    "num_results = 500 # condition to continue adding pages\n",
    "count = 0  # tracker of results\n",
    "page = 1 #Per the documentation each page will give us more results\n",
    "\n",
    "for idx in range(len(ref_list)): \n",
    "    results[ref_list[idx]] = []\n",
    "    page=1\n",
    "    while num_results == 500: #if less 500 or 0 we know we have all the results\n",
    "        print (\"starting \", page, \" \", num_results) #just to see our progress\n",
    "        data = requests.get(api_list[idx]+\"&page={}\".format(page)) #call the previous function \n",
    "        data = data.json()\n",
    "        results[ref_list[idx]].append(data['data']) #store in our results\n",
    "        count += data['count'] #Track number of results\n",
    "        num_results = data['count'] #update our condition\n",
    "        page += 1 #update our page variable\n",
    "        print (\"Total Results \", count) #Track our progress\n",
    "        break\n",
    "    \n",
    "\n"
   ]
  },
  {
   "cell_type": "markdown",
   "metadata": {},
   "source": [
    "# 5. Consolidate the Results\n",
    "\n",
    "The next cell takes the results and place them in a giant table/DataFrame. Based on the user search. Users can select a result from the drop down they want to see. "
   ]
  },
  {
   "cell_type": "code",
   "execution_count": 6,
   "metadata": {},
   "outputs": [
    {
     "data": {
      "application/vnd.jupyter.widget-view+json": {
       "model_id": "",
       "version_major": 2,
       "version_minor": 0
      },
      "text/plain": [
       "interactive(children=(Dropdown(description='Results', options=('Albania',), value='Albania'), Output()), _dom_…"
      ]
     },
     "metadata": {},
     "output_type": "display_data"
    }
   ],
   "source": [
    "#Now I want to put them together into one giant result\n",
    "res_consolidated = {}\n",
    "for req,data in results.items(): \n",
    "    res_consolidated[req] = [] \n",
    "    for d in data: \n",
    "        res_consolidated[req] += d\n",
    "    df = pd.DataFrame(res_consolidated[req])\n",
    "    res_consolidated[req] = df\n",
    "\n",
    "res_select = widgets.Dropdown(options = list(res_consolidated.keys()),\n",
    "    description='Results',\n",
    "    disabled=False)\n",
    "\n",
    "def update(results):\n",
    "    return res_consolidated[results]\n",
    "\n",
    "res_selection = interact(update, results= res_select)\n"
   ]
  },
  {
   "cell_type": "code",
   "execution_count": 6,
   "metadata": {},
   "outputs": [
    {
     "data": {
      "application/vnd.jupyter.widget-view+json": {
       "model_id": "",
       "version_major": 2,
       "version_minor": 0
      },
      "text/plain": [
       "interactive(children=(Dropdown(description='Results', options=('Albania',), value='Albania'), Output()), _dom_…"
      ]
     },
     "metadata": {},
     "output_type": "display_data"
    }
   ],
   "source": [
    "#Now I want to put them together into one giant result\n",
    "res_consolidated = {}\n",
    "for req,data in results.items(): \n",
    "    res_consolidated[req] = [] \n",
    "    for d in data: \n",
    "        res_consolidated[req] += d\n",
    "    df = pd.DataFrame(res_consolidated[req])\n",
    "    res_consolidated[req] = df\n",
    "\n",
    "res_select = widgets.Dropdown(options = list(res_consolidated.keys()),\n",
    "    description='Results',\n",
    "    disabled=False)\n",
    "\n",
    "def update(results):\n",
    "    return res_consolidated[results]\n",
    "\n",
    "res_selection = interact(update, results= res_select)\n"
   ]
  },
  {
   "cell_type": "markdown",
   "metadata": {},
   "source": [
    "# 6. Select a Sub Category\n",
    "\n"
   ]
  },
  {
   "cell_type": "code",
   "execution_count": 14,
   "metadata": {},
   "outputs": [
    {
     "data": {
      "application/vnd.jupyter.widget-view+json": {
       "model_id": "f65fdf1f20034d79bd436e9b7df261eb",
       "version_major": 2,
       "version_minor": 0
      },
      "text/plain": [
       "interactive(children=(Dropdown(description='Sub Category', options=('data_id', 'iso', 'event_id_cnty', 'event_…"
      ]
     },
     "metadata": {},
     "output_type": "display_data"
    }
   ],
   "source": [
    "#Now I want to put them together into one giant result\n",
    "type_select = widgets.Dropdown(options = list(res_consolidated[res_select.value].columns),\n",
    "    description='Sub Category',\n",
    "    disabled=False)\n",
    "\n",
    "def update(sub):\n",
    "    return sub\n",
    "\n",
    "res_selection = interact(update, sub= type_select)\n"
   ]
  },
  {
   "cell_type": "markdown",
   "metadata": {},
   "source": [
    "# 7. Select if you to select within the subcategory. \n",
    "\n"
   ]
  },
  {
   "cell_type": "code",
   "execution_count": 15,
   "metadata": {},
   "outputs": [
    {
     "data": {
      "application/vnd.jupyter.widget-view+json": {
       "model_id": "adec9507d9fd44b9ad682d7b436d03c2",
       "version_major": 2,
       "version_minor": 0
      },
      "text/plain": [
       "interactive(children=(Dropdown(description='Category Select', options=('Europe',), value='Europe'), Output()),…"
      ]
     },
     "metadata": {},
     "output_type": "display_data"
    }
   ],
   "source": [
    "#Now I want to put them together into one giant result\n",
    "sub_select = widgets.Dropdown(options = list(res_consolidated[res_select.value][type_select.value].unique()),\n",
    "    description='Category Select',\n",
    "    disabled=False)\n",
    "\n",
    "def update(cat):\n",
    "    return cat\n",
    "\n",
    "res_selection = interact(update, cat= sub_select)\n"
   ]
  },
  {
   "cell_type": "code",
   "execution_count": null,
   "metadata": {},
   "outputs": [],
   "source": []
  },
  {
   "cell_type": "code",
   "execution_count": 20,
   "metadata": {},
   "outputs": [
    {
     "data": {
      "text/plain": [
       "0             Makati\n",
       "1        Quezon City\n",
       "2          San Pedro\n",
       "3         Bagumbayan\n",
       "4         Davao City\n",
       "            ...     \n",
       "11507         Bacuag\n",
       "11508         Manila\n",
       "11509           Pata\n",
       "11510        Pagatin\n",
       "11511            Goa\n",
       "Name: location, Length: 11512, dtype: object"
      ]
     },
     "execution_count": 20,
     "metadata": {},
     "output_type": "execute_result"
    }
   ],
   "source": []
  },
  {
   "cell_type": "code",
   "execution_count": null,
   "metadata": {},
   "outputs": [],
   "source": []
  }
 ],
 "metadata": {
  "kernelspec": {
   "display_name": "Python 3",
   "language": "python",
   "name": "python3"
  },
  "language_info": {
   "codemirror_mode": {
    "name": "ipython",
    "version": 3
   },
   "file_extension": ".py",
   "mimetype": "text/x-python",
   "name": "python",
   "nbconvert_exporter": "python",
   "pygments_lexer": "ipython3",
   "version": "3.8.6"
  }
 },
 "nbformat": 4,
 "nbformat_minor": 4
}
